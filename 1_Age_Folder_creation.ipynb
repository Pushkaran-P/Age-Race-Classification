{
 "cells": [
  {
   "cell_type": "code",
   "execution_count": null,
   "id": "f39d2a46",
   "metadata": {},
   "outputs": [],
   "source": [
    "# #!pip install \"dlib-19.22.99-cp310-cp310-win_amd64.whl\""
   ]
  },
  {
   "cell_type": "code",
   "execution_count": 1,
   "id": "c3b0dc99",
   "metadata": {},
   "outputs": [],
   "source": [
    "import os\n",
    "import tarfile\n",
    "import dlib\n",
    "import matplotlib.pyplot as plt\n",
    "import cv2\n",
    "from pathlib import Path\n",
    "from joblib import Parallel, delayed\n",
    "import time"
   ]
  },
  {
   "cell_type": "code",
   "execution_count": null,
   "id": "cb5fdd88",
   "metadata": {},
   "outputs": [],
   "source": [
    "tar_files = ['part1.tar.gz', 'part2.tar.gz', 'part3.tar.gz']\n",
    "output_folder = os.path.join(os.getcwd(), 'all_images')\n",
    "\n",
    "os.makedirs(output_folder, exist_ok=True)\n",
    "\n",
    "for tar_file in tar_files:\n",
    "    with tarfile.open(tar_file, 'r:gz') as tar:\n",
    "        jpg_members = [member for member in tar.getmembers() if member.name.endswith('.jpg')]\n",
    "        for member in jpg_members:\n",
    "            # Remove the leading directory name from the member's name\n",
    "            member.name = os.path.basename(member.name)\n",
    "        tar.extractall(path=output_folder, members=jpg_members)"
   ]
  },
  {
   "cell_type": "code",
   "execution_count": 2,
   "id": "4385ce35",
   "metadata": {},
   "outputs": [],
   "source": [
    "def hogDetectFaces(image, display = True):\n",
    "\n",
    "    height, width, _ = image.shape\n",
    "    output_image = image.copy()\n",
    "    \n",
    "    # OpenCV reads images in BGR format by default\n",
    "    imgRGB = cv2.cvtColor(image, cv2.COLOR_BGR2RGB)\n",
    "    hog_face_detector = dlib.get_frontal_face_detector()\n",
    "    results = hog_face_detector(imgRGB, 0)\n",
    "    \n",
    "    # If 0 or more than 1 face is detected\n",
    "    if not len(results)==1:\n",
    "        return []\n",
    "    for bbox in results:\n",
    "\n",
    "        # Some images have bounding box in their borders\n",
    "        x1 = max(0, bbox.left()) \n",
    "        y1 = max(0, bbox.top())\n",
    "        x2 = max(0, bbox.right())\n",
    "        y2 = max(0, bbox.bottom())\n",
    "        \n",
    "        #cv2.rectangle(output_image, pt1=(x1, y1), pt2=(x2, y2), color=(0, 255, 0), thickness=width//200) #use if u want display \n",
    "\n",
    "    if display:\n",
    "\n",
    "        plt.figure(figsize=[15,15])\n",
    "        plt.subplot(121);plt.imshow(image[:,:,::-1]);plt.title(\"Original Image\");plt.axis('off');\n",
    "        plt.subplot(122);plt.imshow(output_image[:,:,::-1]);plt.title(\"Output\");plt.axis('off');\n",
    "\n",
    "    else:\n",
    "        return output_image[y1:y2, x1:x2]"
   ]
  },
  {
   "cell_type": "code",
   "execution_count": 3,
   "id": "c5a9469e",
   "metadata": {},
   "outputs": [
    {
     "data": {
      "text/plain": [
       "2096.007228374481"
      ]
     },
     "execution_count": 3,
     "metadata": {},
     "output_type": "execute_result"
    }
   ],
   "source": [
    "cropped_folder = os.path.join(os.getcwd(), 'cropped_images')\n",
    "os.makedirs(cropped_folder, exist_ok=True)\n",
    "output_folder = Path(os.getcwd()) / 'all_images'\n",
    "cropped_folder = Path(os.getcwd()) / 'cropped_images'\n",
    "\n",
    "s = time.time()\n",
    "def process_image(image_path):\n",
    "    image = cv2.imread(str(image_path))\n",
    "    cropped_image = hogDetectFaces(image, display=False)\n",
    "    if len(cropped_image) == 0:\n",
    "        os.remove(image_path)\n",
    "    else:\n",
    "        \n",
    "        # Interpolation\n",
    "        interpolation = cv2.INTER_CUBIC if cropped_image.shape[0] <= 180 or cropped_image.shape[1] <= 180 else cv2.INTER_AREA\n",
    "        cropped_image = cv2.resize(cropped_image, (180, 180), interpolation=interpolation)\n",
    "        \n",
    "        # Save the first cropped image to replace the original image\n",
    "        cropped_path = cropped_folder / image_path.name\n",
    "        cv2.imwrite(str(cropped_path), cropped_image)\n",
    "\n",
    "Parallel(n_jobs=-4)(delayed(process_image)(image_path) for image_path in output_folder.glob('*') )\n",
    "time.time()-s"
   ]
  }
 ],
 "metadata": {
  "kernelspec": {
   "display_name": "Python 3 (ipykernel)",
   "language": "python",
   "name": "python3"
  },
  "language_info": {
   "codemirror_mode": {
    "name": "ipython",
    "version": 3
   },
   "file_extension": ".py",
   "mimetype": "text/x-python",
   "name": "python",
   "nbconvert_exporter": "python",
   "pygments_lexer": "ipython3",
   "version": "3.10.11"
  }
 },
 "nbformat": 4,
 "nbformat_minor": 5
}
