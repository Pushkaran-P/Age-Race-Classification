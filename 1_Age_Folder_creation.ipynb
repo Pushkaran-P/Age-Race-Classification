{
 "cells": [
  {
   "cell_type": "code",
   "execution_count": 1,
   "id": "f39d2a46",
   "metadata": {},
   "outputs": [],
   "source": [
    "# #!pip install \"dlib-19.22.99-cp310-cp310-win_amd64.whl\""
   ]
  },
  {
   "cell_type": "code",
   "execution_count": 1,
   "id": "c3b0dc99",
   "metadata": {},
   "outputs": [],
   "source": [
    "import os\n",
    "import tarfile\n",
    "import dlib\n",
    "import matplotlib.pyplot as plt\n",
    "import cv2\n",
    "from pathlib import Path\n",
    "from joblib import Parallel, delayed\n",
    "import time\n",
    "import numpy as np\n",
    "from scipy import stats\n",
    "import pickle\n",
    "\n",
    "lower_age = 1\n",
    "upper_age = 30"
   ]
  },
  {
   "cell_type": "code",
   "execution_count": 3,
   "id": "cb5fdd88",
   "metadata": {},
   "outputs": [
    {
     "data": {
      "text/plain": [
       "[None, None, None]"
      ]
     },
     "execution_count": 3,
     "metadata": {},
     "output_type": "execute_result"
    }
   ],
   "source": [
    "tar_files = ['part1.tar.gz', 'part2.tar.gz', 'part3.tar.gz']\n",
    "output_folder = os.path.join(os.getcwd(), 'all_images')\n",
    "\n",
    "os.makedirs(output_folder, exist_ok=True)\n",
    "\n",
    "def extract_jpg(tar_file, output_folder):\n",
    "    with tarfile.open(tar_file, 'r:gz') as tar:\n",
    "        jpg_members = [member for member in tar.getmembers() if member.name.endswith('.jpg')]\n",
    "        for member in jpg_members:\n",
    "            # Remove the leading directory name from the member's name\n",
    "            member.name = os.path.basename(member.name)\n",
    "        tar.extractall(path=output_folder, members=jpg_members)\n",
    "\n",
    "Parallel(n_jobs=-1)(delayed(extract_jpg)(tar_file, output_folder) for tar_file in tar_files)"
   ]
  },
  {
   "cell_type": "code",
   "execution_count": 2,
   "id": "4385ce35",
   "metadata": {},
   "outputs": [],
   "source": [
    "def hogDetectFaces(image, image_path, return_dims):\n",
    "    height, width, _ = image.shape\n",
    "    output_image = image.copy()\n",
    "    \n",
    "    # OpenCV reads images in BGR format by default\n",
    "    imgRGB = cv2.cvtColor(image, cv2.COLOR_BGR2RGB)\n",
    "    hog_face_detector = dlib.get_frontal_face_detector()\n",
    "    results = hog_face_detector(imgRGB, 0)\n",
    "    \n",
    "    # Initialize bounding box variables\n",
    "    x1 = y1 = x2 = y2 = None\n",
    "\n",
    "    # If 0 or more than 1 face is detected\n",
    "    if not len(results)==1 and return_dims:\n",
    "        return 0, 0\n",
    "    for bbox in results:\n",
    "\n",
    "        # Some images have bounding box in their borders\n",
    "        x1 = max(0, bbox.left()) \n",
    "        y1 = max(0, bbox.top())\n",
    "        x2 = max(0, bbox.right())\n",
    "        y2 = max(0, bbox.bottom())\n",
    "        \n",
    "    if return_dims:\n",
    "        cropped_image_height = y2 - y1\n",
    "        cropped_image_width = x2 - x1\n",
    "        return cropped_image_height, cropped_image_width\n",
    "    else:\n",
    "        if x1 is not None and y1 is not None and x2 is not None and y2 is not None:\n",
    "            cropped_image_height = y2 - y1\n",
    "            cropped_image_width = x2 - x1\n",
    "            if 71 < cropped_image_height < 643 and 68 < cropped_image_width < 642:\n",
    "                return output_image[y1:y2, x1:x2]\n",
    "        return image_path"
   ]
  },
  {
   "cell_type": "code",
   "execution_count": 3,
   "id": "c5a9469e",
   "metadata": {},
   "outputs": [],
   "source": [
    "cropped_folder = os.path.join(os.getcwd(), 'cropped_images')\n",
    "os.makedirs(cropped_folder, exist_ok=True)\n",
    "output_folder = Path(os.getcwd()) / 'all_images'\n",
    "cropped_folder = Path(os.getcwd()) / 'cropped_images'"
   ]
  },
  {
   "cell_type": "code",
   "execution_count": 4,
   "id": "871a7cf7",
   "metadata": {},
   "outputs": [],
   "source": [
    "def get_sort_key(x):\n",
    "    parts = x.stem.split('_')\n",
    "    try:\n",
    "        if lower_age <= int(parts[0]) <= upper_age:\n",
    "            return (0, tuple(map(int, parts[:3])))\n",
    "        else:\n",
    "            return (1,)\n",
    "    except ValueError:\n",
    "        return (1,)\n",
    "\n",
    "age_image_list = []\n",
    "\n",
    "for image_path in sorted(output_folder.glob('*'), key=get_sort_key):\n",
    "    if get_sort_key(image_path)[0] == 0:\n",
    "        age_image_list.append(image_path)"
   ]
  },
  {
   "cell_type": "code",
   "execution_count": 16,
   "id": "0e494d25",
   "metadata": {},
   "outputs": [
    {
     "data": {
      "text/plain": [
       "1319.0318975448608"
      ]
     },
     "execution_count": 16,
     "metadata": {},
     "output_type": "execute_result"
    }
   ],
   "source": [
    "s = time.time()\n",
    "def process_image(image_path):\n",
    "    image_path_str = str(image_path)\n",
    "    image = cv2.imread(image_path_str)\n",
    "    result = hogDetectFaces(image, image_path_str, return_dims=False)\n",
    "        \n",
    "    if isinstance(result, str):  # The result is an image path\n",
    "        print(f\"Image at {result} does not meet dimension requirements.\")\n",
    "    else:  # The result is a cropped image\n",
    "        \n",
    "        # Interpolation\n",
    "#         interpolation = cv2.INTER_CUBIC if cropped_image.shape[0] <= 180 or cropped_image.shape[1] <= 180 else cv2.INTER_AREA\n",
    "#         cropped_image = cv2.resize(cropped_image, (180, 180), interpolation=interpolation)\n",
    "        \n",
    "        # Save the first cropped image to replace the original image\n",
    "        cropped_path = cropped_folder / image_path.name\n",
    "        cv2.imwrite(str(cropped_path), result)\n",
    "\n",
    "Parallel(n_jobs=-5)(delayed(process_image)(image_path) for image_path in age_image_list )\n",
    "time.time()-s"
   ]
  },
  {
   "cell_type": "code",
   "execution_count": null,
   "id": "41ae588f",
   "metadata": {},
   "outputs": [],
   "source": [
    "# def process_image(image_path):\n",
    "#     image = cv2.imread(str(image_path))\n",
    "#     height, width = hogDetectFaces(image, return_dims = True)\n",
    "#     if not height == 0:\n",
    "#         return height, width, image_path\n",
    "\n",
    "# dims = Parallel(n_jobs=-4)(delayed(process_image)(path) for path in age_image_list )\n",
    "# dims = [dim for dim in dims if dim is not None]\n",
    "\n",
    "# heights, widths, image_paths = map(list, zip(*dims))\n",
    "# heights_array = np.array(heights)\n",
    "# widths_array = np.array(widths)\n",
    "\n",
    "# del heights, widths, dims\n",
    "\n",
    "# np.save('heights.npy', heights_array)\n",
    "# np.save('widths.npy', widths_array)\n",
    "\n",
    "# del heights_array, widths_array\n",
    "\n",
    "# # Save list to a pickle file\n",
    "# with open('image_paths.pkl', 'wb') as f:\n",
    "#     pickle.dump(image_paths, f)\n",
    "\n",
    "# del image_paths"
   ]
  },
  {
   "cell_type": "code",
   "execution_count": null,
   "id": "b32bf203",
   "metadata": {},
   "outputs": [],
   "source": [
    "# heights_array = np.load('heights.npy')\n",
    "# widths_array = np.load('widths.npy')\n",
    "\n",
    "# # Load list from a pickle file\n",
    "# with open('image_paths.pkl', 'rb') as f:\n",
    "#     image_paths = pickle.load(f)"
   ]
  },
  {
   "cell_type": "code",
   "execution_count": null,
   "id": "64c9c588",
   "metadata": {},
   "outputs": [],
   "source": [
    "# data = [heights_array, widths_array]\n",
    "# labels = ['Heights', 'Widths']\n",
    "\n",
    "# plt.boxplot(data, labels=labels)\n",
    "# plt.title('Box Plot of Cropped Image Dimensions')\n",
    "# plt.show()\n",
    "\n",
    "# # Calculate the z-scores of the heights and widths\n",
    "# heights_zscores = stats.zscore(heights_array)\n",
    "# widths_zscores = stats.zscore(widths_array)\n",
    "\n",
    "# # Define the threshold for outliers\n",
    "# threshold = 3\n",
    "\n",
    "# # Find the indices of the outliers\n",
    "# height_outlier_condition = np.abs(heights_zscores) > threshold\n",
    "# width_outlier_condition = np.abs(widths_zscores) > threshold\n",
    "# outlier_indices = np.where(height_outlier_condition | width_outlier_condition )\n",
    "\n",
    "# crop_image_paths = [image_path for i, image_path in enumerate(image_paths) if i not in outlier_indices[0]]\n",
    "\n",
    "# heights_array = np.delete(heights_array, outlier_indices[0])\n",
    "# widths_array = np.delete(widths_array, outlier_indices[0])\n",
    "\n",
    "# print(np.sort(heights_array)[::-1])\n",
    "# print(np.sort(widths_array)[::-1])\n",
    "\n",
    "# # Calculate the densities\n",
    "# density = stats.gaussian_kde(heights_array)\n",
    "# # Calculate the weighted mean\n",
    "# center_point = np.average(heights_array, weights=density(heights_array))\n",
    "# print('Center Point:', center_point)\n",
    "\n",
    "# # Calculate the densities\n",
    "# density = stats.gaussian_kde(widths_array)\n",
    "# # Calculate the weighted mean\n",
    "# center_point = np.average(widths_array, weights=density(widths_array))\n",
    "# print('Center Point:', center_point)\n",
    "\n",
    "\n",
    "# bins = np.arange(50, 700, 50)  # creates an array [50, 100, ..., 650]\n",
    "\n",
    "# # compute histogram\n",
    "# hist, bin_edges = np.histogram(heights_array, bins)\n",
    "\n",
    "# # print histogram frequencies\n",
    "# print(f'Frequencies: {hist}')\n",
    "\n",
    "# # plot histogram\n",
    "# plt.figure(figsize=[6,6])\n",
    "# plt.bar(bin_edges[:-1], hist, width = 50, color='#0504aa',alpha=0.7)\n",
    "# plt.xlim(min(bin_edges), max(bin_edges))\n",
    "# plt.grid(axis='y', alpha=0.75)\n",
    "# plt.xlabel('Height',fontsize=15)\n",
    "# plt.ylabel('Frequency',fontsize=15)\n",
    "# plt.xticks(fontsize=15)\n",
    "# plt.yticks(fontsize=15)\n",
    "# plt.title('Histogram of Heights',fontsize=15)\n",
    "# plt.show()\n",
    "\n",
    "# # compute histogram\n",
    "# hist, bin_edges = np.histogram(widths_array, bins)\n",
    "\n",
    "# # print histogram frequencies\n",
    "# print(f'Frequencies: {hist}')\n",
    "\n",
    "# # plot histogram\n",
    "# plt.figure(figsize=[6,6])\n",
    "# plt.bar(bin_edges[:-1], hist, width = 50, color='#0504aa',alpha=0.7)\n",
    "# plt.xlim(min(bin_edges), max(bin_edges))\n",
    "# plt.grid(axis='y', alpha=0.75)\n",
    "# plt.xlabel('Height',fontsize=15)\n",
    "# plt.ylabel('Frequency',fontsize=15)\n",
    "# plt.xticks(fontsize=15)\n",
    "# plt.yticks(fontsize=15)\n",
    "# plt.title('Histogram of Heights',fontsize=15)\n",
    "# plt.show()"
   ]
  }
 ],
 "metadata": {
  "kernelspec": {
   "display_name": "Python 3 (ipykernel)",
   "language": "python",
   "name": "python3"
  },
  "language_info": {
   "codemirror_mode": {
    "name": "ipython",
    "version": 3
   },
   "file_extension": ".py",
   "mimetype": "text/x-python",
   "name": "python",
   "nbconvert_exporter": "python",
   "pygments_lexer": "ipython3",
   "version": "3.10.11"
  }
 },
 "nbformat": 4,
 "nbformat_minor": 5
}
