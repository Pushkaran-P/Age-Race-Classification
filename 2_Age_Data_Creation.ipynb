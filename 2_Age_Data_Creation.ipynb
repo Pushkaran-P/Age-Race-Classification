{
 "cells": [
  {
   "cell_type": "code",
   "execution_count": 1,
   "id": "438f8efb",
   "metadata": {},
   "outputs": [],
   "source": [
    "import os\n",
    "import cv2\n",
    "import numpy as np\n",
    "from pathlib import Path\n",
    "from joblib import Parallel, delayed\n",
    "from sklearn.model_selection import train_test_split\n",
    "\n",
    "lower_age_limit = 1\n",
    "upper_age_limit = 30\n",
    "bin_size = 6\n",
    "\n",
    "# dont keep beyond 30"
   ]
  },
  {
   "cell_type": "code",
   "execution_count": 2,
   "id": "cea221a4",
   "metadata": {},
   "outputs": [],
   "source": [
    "combined_dict = {}\n",
    "cropped_folder = Path(os.getcwd()) / 'cropped_images'\n",
    "\n",
    "def get_sort_key(x):\n",
    "    parts = x.stem.split('_')\n",
    "    try:\n",
    "        return (0, tuple(map(int, parts[:3])))\n",
    "    except ValueError:\n",
    "        return (1,)\n",
    "\n",
    "for i in range(lower_age_limit, upper_age_limit+1, bin_size):\n",
    "    age_bin = []\n",
    "    for j in range(bin_size):\n",
    "        age_bin.extend(sorted(cropped_folder.glob(f'{i+j}_*'), key=get_sort_key))\n",
    "\n",
    "    combined_dict[(i - lower_age_limit) // bin_size] = age_bin"
   ]
  },
  {
   "cell_type": "code",
   "execution_count": 3,
   "id": "94c9a0b1",
   "metadata": {},
   "outputs": [],
   "source": [
    "image_paths = []\n",
    "bins = []\n",
    "\n",
    "for key, value in combined_dict.items():\n",
    "    image_paths.extend(value)\n",
    "    bins.extend([key] * len(value))\n",
    "\n",
    "image_paths = np.array(image_paths)\n",
    "bins = np.array(bins).reshape(-1, 1)"
   ]
  },
  {
   "cell_type": "code",
   "execution_count": 4,
   "id": "6c736c1e",
   "metadata": {},
   "outputs": [],
   "source": [
    "X_train_str, X_test_str, y_train, y_test = train_test_split(image_paths, bins, random_state=42, shuffle = True, stratify=bins)"
   ]
  },
  {
   "cell_type": "code",
   "execution_count": 5,
   "id": "df2775ff",
   "metadata": {},
   "outputs": [
    {
     "name": "stdout",
     "output_type": "stream",
     "text": [
      "Unique elements: [0 1 2 3 4]\n",
      "Counts: [1619  649  798 1803 4318]\n"
     ]
    }
   ],
   "source": [
    "unique_elements, counts = np.unique(y_train, return_counts=True)\n",
    "print(f'Unique elements: {unique_elements}')\n",
    "print(f'Counts: {counts}')"
   ]
  },
  {
   "cell_type": "code",
   "execution_count": 6,
   "id": "67c7127e",
   "metadata": {},
   "outputs": [],
   "source": [
    "np.random.seed(0)  # Set the seed for the random number generator to ensure reproducibility\n",
    "\n",
    "# Get the indices of samples in class 4\n",
    "class_4_indices = np.where(y_train == 4)[0]\n",
    "\n",
    "# Initialize lists to hold gender and race values\n",
    "gender_values = []\n",
    "race_values = []\n",
    "\n",
    "# Iterate over each file path in X_train_str\n",
    "for file_path in X_train_str:\n",
    "    # Extract the filename from the file path\n",
    "    filename = os.path.basename(file_path)\n",
    "    \n",
    "    # Split the filename into its components [age, gender, race, date&time]\n",
    "    components = filename.split(\"_\")\n",
    "    \n",
    "    # Append the gender and race values (converted to integers) to their respective lists\n",
    "    gender_values.append(int(components[1]))\n",
    "    race_values.append(int(components[2]))\n",
    "\n",
    "# Convert lists to numpy arrays\n",
    "gender_values = np.array(gender_values)\n",
    "race_values = np.array(race_values)\n",
    "\n",
    "# Count the number of each gender and race within class 4\n",
    "gender_counts = np.bincount(gender_values[class_4_indices])\n",
    "race_counts = np.bincount(race_values[class_4_indices])\n",
    "\n",
    "# Determine the minimum number of samples to take from each gender-race combination\n",
    "min_samples = min(np.min(gender_counts), np.min(race_counts), 1500)\n",
    "\n",
    "# Initialize a list to hold the indices of the undersampled data\n",
    "undersampled_indices = []\n",
    "\n",
    "# Iterate over each gender-race combination\n",
    "for i in range(2):  # Gender values (0, 1)\n",
    "    for j in range(4):  # Race values (0, 1, 2, 3)\n",
    "        # Get the indices of samples that match the current gender-race combination and are in class 4\n",
    "        indices = np.where((gender_values == i) & (race_values == j) & (y_train == 4))[0]\n",
    "        \n",
    "        if len(indices) > min_samples:\n",
    "            # If there are more samples than min_samples, randomly select min_samples samples without replacement\n",
    "            selected_indices = np.random.choice(indices, size=min_samples, replace=False)\n",
    "            undersampled_indices.extend(selected_indices)\n",
    "        else:\n",
    "            # If there are less or equal samples than min_samples, take all samples\n",
    "            undersampled_indices.extend(indices)\n",
    "\n",
    "# Convert the list of undersampled indices to a numpy array\n",
    "undersampled_indices = np.array(undersampled_indices)"
   ]
  },
  {
   "cell_type": "code",
   "execution_count": 7,
   "id": "372f78bc",
   "metadata": {},
   "outputs": [],
   "source": [
    "other_indices = np.where(y_train != 4)[0]\n",
    "selected_indices = np.concatenate([undersampled_indices, other_indices])\n",
    "\n",
    "X_train_str_undersampled = X_train_str[np.array(selected_indices)]\n",
    "y_train_undersampled = y_train[np.array(selected_indices)]"
   ]
  },
  {
   "cell_type": "code",
   "execution_count": 8,
   "id": "daa5a136",
   "metadata": {},
   "outputs": [
    {
     "name": "stderr",
     "output_type": "stream",
     "text": [
      "C:\\Users\\pushk\\AppData\\Local\\Temp\\ipykernel_6404\\3667414913.py:2: VisibleDeprecationWarning: Creating an ndarray from ragged nested sequences (which is a list-or-tuple of lists-or-tuples-or ndarrays with different lengths or shapes) is deprecated. If you meant to do this, you must specify 'dtype=object' when creating the ndarray.\n",
      "  X_train_undersampled = np.array(train_results)\n"
     ]
    }
   ],
   "source": [
    "train_results = Parallel(n_jobs=-1)(delayed(lambda image: cv2.imread(str(image)))(image) for image in X_train_str_undersampled)\n",
    "X_train_undersampled = np.array(train_results)\n",
    "del train_results"
   ]
  },
  {
   "cell_type": "code",
   "execution_count": 9,
   "id": "00067fd9",
   "metadata": {},
   "outputs": [],
   "source": [
    "np.savez( os.getcwd() + '/ train_age_image_data.npz', X_train_undersampled, y_train_undersampled)\n",
    "del X_train_undersampled, y_train_undersampled"
   ]
  },
  {
   "cell_type": "code",
   "execution_count": 10,
   "id": "b9576b9b",
   "metadata": {},
   "outputs": [
    {
     "name": "stderr",
     "output_type": "stream",
     "text": [
      "C:\\Users\\pushk\\AppData\\Local\\Temp\\ipykernel_6404\\584904789.py:2: VisibleDeprecationWarning: Creating an ndarray from ragged nested sequences (which is a list-or-tuple of lists-or-tuples-or ndarrays with different lengths or shapes) is deprecated. If you meant to do this, you must specify 'dtype=object' when creating the ndarray.\n",
      "  X_test = np.array(test_results)\n"
     ]
    }
   ],
   "source": [
    "test_results = Parallel(n_jobs=-1)(delayed(lambda image: cv2.imread(str(image)))(image) for image in X_test_str)\n",
    "X_test = np.array(test_results)\n",
    "del test_results"
   ]
  },
  {
   "cell_type": "code",
   "execution_count": 11,
   "id": "e87d42b8",
   "metadata": {},
   "outputs": [],
   "source": [
    "np.savez( os.getcwd() + '/ test_age_image_data.npz', X_test, y_test)\n",
    "del X_test, y_test"
   ]
  }
 ],
 "metadata": {
  "kernelspec": {
   "display_name": "Python 3 (ipykernel)",
   "language": "python",
   "name": "python3"
  },
  "language_info": {
   "codemirror_mode": {
    "name": "ipython",
    "version": 3
   },
   "file_extension": ".py",
   "mimetype": "text/x-python",
   "name": "python",
   "nbconvert_exporter": "python",
   "pygments_lexer": "ipython3",
   "version": "3.10.11"
  }
 },
 "nbformat": 4,
 "nbformat_minor": 5
}
