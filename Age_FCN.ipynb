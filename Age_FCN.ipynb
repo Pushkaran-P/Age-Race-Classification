{
  "nbformat": 4,
  "nbformat_minor": 0,
  "metadata": {
    "colab": {
      "provenance": [],
      "gpuType": "T4",
      "authorship_tag": "ABX9TyOL9c20ZFva7+dODEaqaGBG",
      "include_colab_link": true
    },
    "kernelspec": {
      "name": "python3",
      "display_name": "Python 3"
    },
    "language_info": {
      "name": "python"
    },
    "accelerator": "GPU"
  },
  "cells": [
    {
      "cell_type": "markdown",
      "metadata": {
        "id": "view-in-github",
        "colab_type": "text"
      },
      "source": [
        "<a href=\"https://colab.research.google.com/github/Pushkaran-P/Age-Race-Classification/blob/main/Age_FCN.ipynb\" target=\"_parent\"><img src=\"https://colab.research.google.com/assets/colab-badge.svg\" alt=\"Open In Colab\"/></a>"
      ]
    },
    {
      "cell_type": "code",
      "source": [
        "from google.colab import drive\n",
        "drive.mount('/content/drive')"
      ],
      "metadata": {
        "colab": {
          "base_uri": "https://localhost:8080/"
        },
        "id": "MXMvnBqYTvG5",
        "outputId": "e8555f2b-6dec-4bd2-fc7b-f473e04678fa"
      },
      "execution_count": null,
      "outputs": [
        {
          "output_type": "stream",
          "name": "stdout",
          "text": [
            "Mounted at /content/drive\n"
          ]
        }
      ]
    },
    {
      "cell_type": "markdown",
      "source": [
        "NormalTrainingData or EqualDistributionTrainingData"
      ],
      "metadata": {
        "id": "Y4yrDFHGgX_k"
      }
    },
    {
      "cell_type": "code",
      "source": [
        "!unrar x -inul \"/content/drive/MyDrive/EqualDistributionTrainingData.rar\"\n",
        "!unrar x -inul \"/content/drive/MyDrive/EqualDistributionTestingData.rar\""
      ],
      "metadata": {
        "id": "JW7wAlynT4zu"
      },
      "execution_count": null,
      "outputs": []
    },
    {
      "cell_type": "code",
      "source": [
        "import os\n",
        "import cv2\n",
        "import numpy as np\n",
        "from tensorflow import keras\n",
        "\n",
        "class CustomDataGenerator(keras.utils.Sequence):\n",
        "    'Generates data for Keras'\n",
        "    def __init__(self, dir, batch_size=16, n_classes=5):\n",
        "        'Initialization'\n",
        "        self.dir = dir\n",
        "        self.batch_size = batch_size\n",
        "        self.n_classes = n_classes\n",
        "        self.on_epoch_end()\n",
        "        np.random.shuffle(self.indexes)\n",
        "\n",
        "    def __len__(self):\n",
        "        'Denotes the number of batches per epoch'\n",
        "        return int(np.floor(len(self.list_IDs) / self.batch_size))\n",
        "\n",
        "    def __getitem__(self, index):\n",
        "        'Generate one batch of data'\n",
        "        # Generate indexes of the batch\n",
        "        indexes = self.indexes[index*self.batch_size:(index+1)*self.batch_size]\n",
        "\n",
        "        # Find list of IDs\n",
        "        list_IDs_temp = [self.list_IDs[k] for k in indexes]\n",
        "\n",
        "        # Generate data\n",
        "        X, y = self.__data_generation(list_IDs_temp)\n",
        "\n",
        "        return X, y\n",
        "\n",
        "    def on_epoch_end(self):\n",
        "        'Updates indexes after each epoch'\n",
        "        self.list_IDs = []\n",
        "        self.labels = {}\n",
        "        for i in range(self.n_classes):\n",
        "            path = os.path.join(self.dir, str(i))\n",
        "            for file in os.listdir(path):\n",
        "                if file.endswith(\".jpg\"):\n",
        "                    self.list_IDs.append(os.path.join(path, file))\n",
        "                    self.labels[os.path.join(path, file)] = i\n",
        "        self.indexes = np.arange(len(self.list_IDs))\n",
        "        np.random.shuffle(self.indexes)\n",
        "\n",
        "    def __data_generation(self, list_IDs_temp):\n",
        "        'Generates data containing batch_size samples'\n",
        "        # Initialization\n",
        "        X = []\n",
        "        y = np.empty((self.batch_size), dtype=int)  # ensure y has shape (batch_size)\n",
        "\n",
        "        # Generate data\n",
        "        for i, ID in enumerate(list_IDs_temp):\n",
        "            # Load image\n",
        "            img = cv2.imread(ID)\n",
        "            X.append(img)\n",
        "\n",
        "            # Store class\n",
        "            y[i] = self.labels[ID]  # labels are integers\n",
        "\n",
        "        # Pad images to max height and width\n",
        "        max_height = max(img.shape[0] for img in X)\n",
        "        max_width = max(img.shape[1] for img in X)\n",
        "        X = [np.pad(img, ((0, max_height - img.shape[0]), (0, max_width - img.shape[1]), (0, 0)), 'constant') for img in X]\n",
        "        # Convert to numpy array\n",
        "        X = np.array(X)\n",
        "\n",
        "        # Normalize images\n",
        "        X = X / 255.0\n",
        "\n",
        "        # X = [data_augmentation(img) for img in X]\n",
        "\n",
        "        return X, y  # y is an array of integer labels\n"
      ],
      "metadata": {
        "id": "zPYWPuhZhg31"
      },
      "execution_count": null,
      "outputs": []
    },
    {
      "cell_type": "code",
      "source": [
        "train_generator = CustomDataGenerator('EqualDistributionTrainingData')\n",
        "test_generator = CustomDataGenerator('EqualDistributionTestingData')"
      ],
      "metadata": {
        "id": "cYUdntXJbyel"
      },
      "execution_count": null,
      "outputs": []
    },
    {
      "cell_type": "code",
      "source": [
        "import tensorflow as tf\n",
        "\n",
        "# Detect and initialize GPU\n",
        "try:\n",
        "    strategy = tf.distribute.OneDeviceStrategy('GPU')\n",
        "except tf.errors.NotFoundError:\n",
        "    print('No GPU devices found. Please make sure GPU is enabled in the runtime settings.')\n",
        "    strategy = tf.distribute.get_strategy()"
      ],
      "metadata": {
        "id": "_Cnmz74qUh20"
      },
      "execution_count": null,
      "outputs": []
    },
    {
      "cell_type": "code",
      "source": [
        "def macro_f1(y_true, y_pred):\n",
        "    # Convert predicted probabilities to class labels\n",
        "    y_pred = tf.argmax(y_pred, axis=-1)\n",
        "    y_true = tf.cast(y_true, tf.int32)\n",
        "    y_pred = tf.cast(y_pred, tf.int32)\n",
        "\n",
        "    # Calculate the number of true positive, false positive, and false negative predictions for each class\n",
        "    true_positives = tf.cast(tf.math.count_nonzero(y_true * y_pred, axis=0), tf.float32)\n",
        "    false_positives = tf.cast(tf.math.count_nonzero((1 - y_true) * y_pred, axis=0), tf.float32)\n",
        "    false_negatives = tf.cast(tf.math.count_nonzero(y_true * (1 - y_pred), axis=0), tf.float32)\n",
        "\n",
        "    # Calculate precision and recall for each class\n",
        "    precision = true_positives / (true_positives + false_positives + 1e-6)\n",
        "    recall = true_positives / (true_positives + false_negatives + 1e-6)\n",
        "\n",
        "    # Calculate the F1 score for each class\n",
        "    f1 = 2 * precision * recall / (precision + recall + 1e-6)\n",
        "\n",
        "    # Calculate the macro-averaged F1 score by taking the mean of the F1 scores for each class\n",
        "    macro_f1 = tf.reduce_mean(f1)\n",
        "    return macro_f1"
      ],
      "metadata": {
        "id": "nRCiBjP-Ui8p"
      },
      "execution_count": null,
      "outputs": []
    },
    {
      "cell_type": "code",
      "source": [
        "from tensorflow.keras.models import Sequential\n",
        "from tensorflow.keras import layers\n",
        "from tensorflow.keras.layers import Conv2D, MaxPooling2D, Flatten, GlobalAveragePooling2D, Dense, Activation\n",
        "from keras.callbacks import EarlyStopping"
      ],
      "metadata": {
        "id": "FTv4LQmHjZ-Q"
      },
      "execution_count": null,
      "outputs": []
    },
    {
      "cell_type": "code",
      "source": [
        "# Define your model\n",
        "model = Sequential()\n",
        "model.add(layers.experimental.preprocessing.RandomFlip(\"horizontal\", input_shape=(None, None, 3)))\n",
        "model.add(layers.experimental.preprocessing.RandomRotation(0.1))\n",
        "model.add(layers.experimental.preprocessing.RandomZoom(0.1))\n",
        "\n",
        "#model.add(Conv2D(32, (3, 3), activation='elu', padding='valid' , input_shape=(None, None, 3)))\n",
        "model.add(Conv2D(32, (3, 3), activation='elu', padding='valid')) # , input_shape=(None, None, 3)\n",
        "model.add(MaxPooling2D((2, 2), padding='valid'))\n",
        "model.add(Conv2D(32, (3, 3), activation='elu', padding='valid'))\n",
        "model.add(MaxPooling2D((2, 2), padding='valid'))\n",
        "model.add(Conv2D(32, (3, 3), activation='elu', padding='valid'))\n",
        "model.add(MaxPooling2D((2, 2), padding='valid'))\n",
        "model.add(Conv2D(32, (3, 3), activation='elu', padding='valid'))\n",
        "model.add(MaxPooling2D((2, 2), padding='valid'))\n",
        "model.add(Conv2D(32, (3, 3), activation='elu', padding='valid'))\n",
        "model.add(MaxPooling2D((2, 2), padding='valid'))\n",
        "\n",
        "# Comment if using Dense\n",
        "# model.add(Conv2D(filters=5, kernel_size=1, strides=1))\n",
        "# model.add(GlobalAveragePooling2D())  # Add global pooling layer\n",
        "# model.add(Activation('softmax'))\n",
        "\n",
        "#UnComment if using Dense\n",
        "model.add(GlobalAveragePooling2D())  # Add global pooling layer\n",
        "model.add(Dense(5, activation='softmax'))  # Use a Dense layer for classification\n",
        "\n",
        "model.compile(optimizer='nadam', loss='sparse_categorical_crossentropy', metrics=[macro_f1])\n",
        "es = EarlyStopping(monitor='macro_f1', mode='max', verbose=1) #val_macro_f1\n",
        "\n",
        "#Train the model\n",
        "model.fit(train_generator, epochs=20, steps_per_epoch = len(train_generator), callbacks=[es]) #, validation_data=test_generator"
      ],
      "metadata": {
        "id": "NvhfuQSyTKpb",
        "colab": {
          "base_uri": "https://localhost:8080/"
        },
        "outputId": "97f9993b-888c-490e-a2d2-e4e0ddaf7643"
      },
      "execution_count": null,
      "outputs": [
        {
          "output_type": "stream",
          "name": "stdout",
          "text": [
            "Epoch 1/20\n",
            "189/189 [==============================] - 60s 231ms/step - loss: 1.1815 - macro_f1: 0.4955\n",
            "Epoch 2/20\n",
            "189/189 [==============================] - 31s 165ms/step - loss: 1.1615 - macro_f1: 0.4957\n",
            "Epoch 3/20\n",
            "189/189 [==============================] - 24s 129ms/step - loss: 1.1488 - macro_f1: 0.4953\n",
            "Epoch 3: early stopping\n"
          ]
        },
        {
          "output_type": "execute_result",
          "data": {
            "text/plain": [
              "<keras.src.callbacks.History at 0x7a699c0895d0>"
            ]
          },
          "metadata": {},
          "execution_count": 8
        }
      ]
    },
    {
      "cell_type": "code",
      "source": [
        "train_loss, train_fscore = model.evaluate(train_generator)\n",
        "print(train_fscore)\n",
        "test_loss, test_fscore = model.evaluate(test_generator)\n",
        "print(test_fscore)"
      ],
      "metadata": {
        "id": "3naW28JmgNRj",
        "colab": {
          "base_uri": "https://localhost:8080/"
        },
        "outputId": "f685a395-6643-4b52-aeae-061af79524e4"
      },
      "execution_count": null,
      "outputs": [
        {
          "output_type": "stream",
          "name": "stdout",
          "text": [
            "189/189 [==============================] - 20s 107ms/step - loss: 1.1470 - macro_f1: 0.4953\n",
            "0.49534571170806885\n",
            "74/74 [==============================] - 9s 121ms/step - loss: 1.4759 - macro_f1: 0.4830\n",
            "0.48303407430648804\n"
          ]
        }
      ]
    },
    {
      "cell_type": "code",
      "source": [
        "model.save(\"model\", include_optimizer=False, save_format='tf')"
      ],
      "metadata": {
        "id": "9IzlRIqGFTQ7"
      },
      "execution_count": null,
      "outputs": []
    },
    {
      "cell_type": "code",
      "source": [
        "!zip -r 'model.zip' '/content/model'"
      ],
      "metadata": {
        "colab": {
          "base_uri": "https://localhost:8080/"
        },
        "id": "RANk88cbFUf2",
        "outputId": "300c47ea-451a-4e4f-b2b0-4bc43c60b696"
      },
      "execution_count": null,
      "outputs": [
        {
          "output_type": "stream",
          "name": "stdout",
          "text": [
            "  adding: content/model/ (stored 0%)\n",
            "  adding: content/model/assets/ (stored 0%)\n",
            "  adding: content/model/keras_metadata.pb (deflated 94%)\n",
            "  adding: content/model/saved_model.pb (deflated 89%)\n",
            "  adding: content/model/variables/ (stored 0%)\n",
            "  adding: content/model/variables/variables.data-00000-of-00001 (deflated 14%)\n",
            "  adding: content/model/variables/variables.index (deflated 63%)\n",
            "  adding: content/model/fingerprint.pb (stored 0%)\n"
          ]
        }
      ]
    }
  ]
}