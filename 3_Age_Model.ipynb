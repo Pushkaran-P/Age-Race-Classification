{
 "cells": [
  {
   "cell_type": "code",
   "execution_count": 1,
   "id": "7ba62c52",
   "metadata": {},
   "outputs": [],
   "source": [
    "import numpy as np\n",
    "import os\n",
    "\n",
    "with np.load(os.getcwd() + '/ train_age_image_data.npz', mmap_mode='c') as data:\n",
    "    x_train = data['arr_0']\n",
    "    y_train = data['arr_1']\n",
    "\n",
    "num_classes = len(np.unique(y_train))"
   ]
  },
  {
   "cell_type": "code",
   "execution_count": 2,
   "id": "c5b8523b",
   "metadata": {},
   "outputs": [
    {
     "data": {
      "text/plain": [
       "(10000, 180, 180, 3)"
      ]
     },
     "execution_count": 2,
     "metadata": {},
     "output_type": "execute_result"
    }
   ],
   "source": [
    "x_train.shape"
   ]
  },
  {
   "cell_type": "code",
   "execution_count": 3,
   "id": "52552a6b",
   "metadata": {},
   "outputs": [],
   "source": [
    "import tensorflow as tf\n",
    "\n",
    "def macro_f1(y_true, y_pred):\n",
    "    # Convert predicted probabilities to class labels\n",
    "    y_pred = tf.argmax(y_pred, axis=-1)\n",
    "    y_true = tf.cast(y_true, tf.int32)\n",
    "    y_pred = tf.cast(y_pred, tf.int32)\n",
    "\n",
    "    # Calculate the number of true positive, false positive, and false negative predictions for each class\n",
    "    true_positives = tf.cast(tf.math.count_nonzero(y_true * y_pred, axis=0), tf.float32)\n",
    "    false_positives = tf.cast(tf.math.count_nonzero((1 - y_true) * y_pred, axis=0), tf.float32)\n",
    "    false_negatives = tf.cast(tf.math.count_nonzero(y_true * (1 - y_pred), axis=0), tf.float32)\n",
    "\n",
    "    # Calculate precision and recall for each class\n",
    "    precision = true_positives / (true_positives + false_positives + 1e-6)\n",
    "    recall = true_positives / (true_positives + false_negatives + 1e-6)\n",
    "\n",
    "    # Calculate the F1 score for each class\n",
    "    f1 = 2 * precision * recall / (precision + recall + 1e-6)\n",
    "\n",
    "    # Calculate the macro-averaged F1 score by taking the mean of the F1 scores for each class\n",
    "    macro_f1 = tf.reduce_mean(f1)\n",
    "    return macro_f1"
   ]
  },
  {
   "cell_type": "code",
   "execution_count": 4,
   "id": "3b384500",
   "metadata": {},
   "outputs": [],
   "source": [
    "#from tensorflow.keras.metrics import Metric\n",
    "from tensorflow.keras import layers, models\n",
    "from tensorflow import keras\n",
    "from tensorflow.keras.models import Sequential\n",
    "from keras.callbacks import EarlyStopping\n",
    "from keras.metrics import Accuracy\n",
    "\n",
    "data_augmentation = keras.Sequential(\n",
    "    [\n",
    "        tf.keras.layers.Rescaling(scale = 1./255, offset=0.0),\n",
    "        layers.experimental.preprocessing.RandomFlip(\"horizontal\", input_shape=(180, 180, 3)),\n",
    "        layers.experimental.preprocessing.RandomRotation(0.1),\n",
    "        layers.experimental.preprocessing.RandomZoom(0.1)    \n",
    "    ]\n",
    ")\n",
    " \n",
    "model = Sequential([\n",
    "    \n",
    "    data_augmentation,\n",
    "    \n",
    "    layers.Conv2D(32, 3, padding='valid', activation='elu', input_shape = (180,180,3)), # padding='same'\n",
    "    layers.MaxPooling2D(), \n",
    "    \n",
    "    layers.Conv2D(64, 3, padding='valid', activation='elu'),\n",
    "    layers.MaxPooling2D(),\n",
    "    \n",
    "    layers.Conv2D(128, 3, padding='valid', activation='elu'),\n",
    "    layers.MaxPooling2D(),\n",
    "    \n",
    "    layers.Conv2D(256, 3, padding='valid', activation='elu'),\n",
    "    layers.MaxPooling2D(),\n",
    "    \n",
    "    layers.Flatten(),\n",
    "    \n",
    "    layers.Dense(256, activation='elu'),\n",
    "    layers.Dense(256, activation='elu'),\n",
    "    layers.Dropout(0.2),\n",
    "    layers.Dropout(0.2),\n",
    "    layers.Dense(num_classes, activation='softmax')\n",
    "])\n",
    "\n",
    "# model.compile(optimizer='nadam', loss='sparse_categorical_crossentropy', metrics=[macro_f1])\n",
    "# es = EarlyStopping(monitor='macro_f1', mode = 'max', verbose = 1)\n",
    "\n",
    "model.compile(optimizer='nadam', loss='sparse_categorical_crossentropy', metrics=['accuracy'])\n",
    "es = EarlyStopping(monitor='accuracy', mode='max', verbose=1)"
   ]
  },
  {
   "cell_type": "code",
   "execution_count": 5,
   "id": "7e082dcd",
   "metadata": {},
   "outputs": [
    {
     "name": "stdout",
     "output_type": "stream",
     "text": [
      "Epoch 1/20\n",
      "313/313 [==============================] - 256s 809ms/step - loss: 1.4604 - accuracy: 0.3998\n",
      "Epoch 2/20\n",
      "313/313 [==============================] - 256s 817ms/step - loss: 1.2173 - accuracy: 0.4597\n",
      "Epoch 3/20\n",
      "313/313 [==============================] - 258s 825ms/step - loss: 1.1494 - accuracy: 0.4869\n",
      "Epoch 4/20\n",
      "313/313 [==============================] - 261s 834ms/step - loss: 1.1090 - accuracy: 0.5064\n",
      "Epoch 5/20\n",
      "313/313 [==============================] - 262s 837ms/step - loss: 1.0662 - accuracy: 0.5213\n",
      "Epoch 6/20\n",
      "313/313 [==============================] - 262s 837ms/step - loss: 1.0416 - accuracy: 0.5409\n",
      "Epoch 7/20\n",
      "313/313 [==============================] - 262s 837ms/step - loss: 1.0096 - accuracy: 0.5589\n",
      "Epoch 8/20\n",
      "313/313 [==============================] - 262s 837ms/step - loss: 0.9915 - accuracy: 0.5637\n",
      "Epoch 9/20\n",
      "313/313 [==============================] - 263s 839ms/step - loss: 0.9683 - accuracy: 0.5707\n",
      "Epoch 10/20\n",
      "313/313 [==============================] - 263s 840ms/step - loss: 0.9499 - accuracy: 0.5773\n",
      "Epoch 11/20\n",
      "313/313 [==============================] - 263s 840ms/step - loss: 0.9333 - accuracy: 0.5831\n",
      "Epoch 12/20\n",
      "313/313 [==============================] - 264s 845ms/step - loss: 0.9247 - accuracy: 0.5886\n",
      "Epoch 13/20\n",
      "313/313 [==============================] - 263s 841ms/step - loss: 0.9028 - accuracy: 0.6009\n",
      "Epoch 14/20\n",
      "313/313 [==============================] - 263s 841ms/step - loss: 0.8988 - accuracy: 0.6048\n",
      "Epoch 15/20\n",
      "313/313 [==============================] - 263s 842ms/step - loss: 0.8813 - accuracy: 0.6073\n",
      "Epoch 16/20\n",
      "313/313 [==============================] - 264s 845ms/step - loss: 0.8801 - accuracy: 0.6135\n",
      "Epoch 17/20\n",
      "313/313 [==============================] - 265s 845ms/step - loss: 0.8549 - accuracy: 0.6208\n",
      "Epoch 18/20\n",
      "313/313 [==============================] - 272s 870ms/step - loss: 0.8505 - accuracy: 0.6227\n",
      "Epoch 19/20\n",
      "313/313 [==============================] - 273s 874ms/step - loss: 0.8459 - accuracy: 0.6277\n",
      "Epoch 20/20\n",
      "313/313 [==============================] - 273s 874ms/step - loss: 0.8405 - accuracy: 0.6271\n",
      "Epoch 20: early stopping\n",
      "313/313 [==============================] - 55s 174ms/step - loss: 0.8156 - accuracy: 0.6468\n",
      "0.6467999815940857\n"
     ]
    }
   ],
   "source": [
    "model.fit(x_train, y_train, epochs=20, callbacks=[es])\n",
    "print(model.evaluate(x_train,y_train)[1])\n",
    "del x_train, y_train"
   ]
  },
  {
   "cell_type": "code",
   "execution_count": 6,
   "id": "b60d2a5a",
   "metadata": {},
   "outputs": [
    {
     "name": "stdout",
     "output_type": "stream",
     "text": [
      "95/95 [==============================] - 17s 175ms/step - loss: 0.8513 - accuracy: 0.6569\n",
      "0.6568982601165771\n"
     ]
    }
   ],
   "source": [
    "with np.load(os.getcwd() + '/ test_age_image_data.npz', mmap_mode='c') as data:\n",
    "    x_test = data['arr_0']\n",
    "    y_test = data['arr_1']\n",
    "\n",
    "print(model.evaluate(x_test,y_test)[1])\n",
    "del x_test,y_test"
   ]
  }
 ],
 "metadata": {
  "kernelspec": {
   "display_name": "Python 3 (ipykernel)",
   "language": "python",
   "name": "python3"
  },
  "language_info": {
   "codemirror_mode": {
    "name": "ipython",
    "version": 3
   },
   "file_extension": ".py",
   "mimetype": "text/x-python",
   "name": "python",
   "nbconvert_exporter": "python",
   "pygments_lexer": "ipython3",
   "version": "3.10.11"
  }
 },
 "nbformat": 4,
 "nbformat_minor": 5
}
