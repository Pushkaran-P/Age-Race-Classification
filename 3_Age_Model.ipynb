{
 "cells": [
  {
   "cell_type": "code",
   "execution_count": 1,
   "id": "7ba62c52",
   "metadata": {},
   "outputs": [],
   "source": [
    "import numpy as np\n",
    "import os\n",
    "\n",
    "with np.load(os.getcwd() + '/ train_age_image_data.npz', mmap_mode='c') as data:\n",
    "    x_train = data['arr_0']\n",
    "    y_train = data['arr_1']\n",
    "\n",
    "num_classes = len(np.unique(y_train))"
   ]
  },
  {
   "cell_type": "code",
   "execution_count": 2,
   "id": "c5b8523b",
   "metadata": {},
   "outputs": [],
   "source": [
    "dim1 = x_train.shape[1]\n",
    "dim2 = x_train.shape[2]\n",
    "dim3 = x_train.shape[3]"
   ]
  },
  {
   "cell_type": "code",
   "execution_count": 3,
   "id": "52552a6b",
   "metadata": {},
   "outputs": [],
   "source": [
    "import tensorflow as tf\n",
    "\n",
    "def macro_f1(y_true, y_pred):\n",
    "    # Convert predicted probabilities to class labels\n",
    "    y_pred = tf.argmax(y_pred, axis=-1)\n",
    "    y_true = tf.cast(y_true, tf.int32)\n",
    "    y_pred = tf.cast(y_pred, tf.int32)\n",
    "\n",
    "    # Calculate the number of true positive, false positive, and false negative predictions for each class\n",
    "    true_positives = tf.cast(tf.math.count_nonzero(y_true * y_pred, axis=0), tf.float32)\n",
    "    false_positives = tf.cast(tf.math.count_nonzero((1 - y_true) * y_pred, axis=0), tf.float32)\n",
    "    false_negatives = tf.cast(tf.math.count_nonzero(y_true * (1 - y_pred), axis=0), tf.float32)\n",
    "\n",
    "    # Calculate precision and recall for each class\n",
    "    precision = true_positives / (true_positives + false_positives + 1e-6)\n",
    "    recall = true_positives / (true_positives + false_negatives + 1e-6)\n",
    "\n",
    "    # Calculate the F1 score for each class\n",
    "    f1 = 2 * precision * recall / (precision + recall + 1e-6)\n",
    "\n",
    "    # Calculate the macro-averaged F1 score by taking the mean of the F1 scores for each class\n",
    "    macro_f1 = tf.reduce_mean(f1)\n",
    "    return macro_f1"
   ]
  },
  {
   "cell_type": "code",
   "execution_count": 4,
   "id": "3b384500",
   "metadata": {},
   "outputs": [],
   "source": [
    "#from tensorflow.keras.metrics import Metric\n",
    "from tensorflow.keras import layers, models\n",
    "from tensorflow import keras\n",
    "from tensorflow.keras.models import Sequential\n",
    "from keras.callbacks import EarlyStopping\n",
    "from keras.metrics import Accuracy\n",
    "\n",
    "data_augmentation = keras.Sequential(\n",
    "    [\n",
    "        tf.keras.layers.Rescaling(scale = 1./255, offset=0.0),\n",
    "        layers.experimental.preprocessing.RandomFlip(\"horizontal\", input_shape=(dim1, dim2, dim3)),\n",
    "        layers.experimental.preprocessing.RandomRotation(0.1),\n",
    "        layers.experimental.preprocessing.RandomZoom(0.1)    \n",
    "    ]\n",
    ")\n",
    " \n",
    "model = Sequential([\n",
    "    \n",
    "    data_augmentation,\n",
    "    \n",
    "    layers.Conv2D(32, 3, padding='valid', activation='elu', input_shape = (180,180,3)), # padding='same'\n",
    "    layers.MaxPooling2D(), \n",
    "    \n",
    "    layers.Conv2D(64, 3, padding='valid', activation='elu'),\n",
    "    layers.MaxPooling2D(),\n",
    "    \n",
    "    layers.Conv2D(128, 3, padding='valid', activation='elu'),\n",
    "    layers.MaxPooling2D(),\n",
    "    \n",
    "    layers.Conv2D(256, 3, padding='valid', activation='elu'),\n",
    "    layers.MaxPooling2D(),\n",
    "    \n",
    "    layers.Flatten(),\n",
    "    \n",
    "    layers.Dense(256, activation='elu'),\n",
    "    layers.Dense(256, activation='elu'),\n",
    "    layers.Dropout(0.2),\n",
    "    layers.Dropout(0.2),\n",
    "    layers.Dense(num_classes, activation='softmax')\n",
    "])\n",
    "\n",
    "model.compile(optimizer='nadam', loss='sparse_categorical_crossentropy', metrics=[macro_f1])\n",
    "es = EarlyStopping(monitor='macro_f1', mode = 'max', verbose = 1)\n",
    "\n",
    "# model.compile(optimizer='nadam', loss='sparse_categorical_crossentropy', metrics=['accuracy'])\n",
    "# es = EarlyStopping(monitor='accuracy', mode='max', verbose=1)"
   ]
  },
  {
   "cell_type": "code",
   "execution_count": 5,
   "id": "7e082dcd",
   "metadata": {},
   "outputs": [
    {
     "name": "stdout",
     "output_type": "stream",
     "text": [
      "Epoch 1/20\n",
      "197/197 [==============================] - 162s 811ms/step - loss: 1.4565 - macro_f1: 0.3248\n",
      "Epoch 2/20\n",
      "197/197 [==============================] - 161s 817ms/step - loss: 1.2054 - macro_f1: 0.3384\n",
      "Epoch 3/20\n",
      "197/197 [==============================] - 161s 818ms/step - loss: 1.1186 - macro_f1: 0.3484\n",
      "Epoch 4/20\n",
      "197/197 [==============================] - 161s 819ms/step - loss: 1.0963 - macro_f1: 0.3544\n",
      "Epoch 5/20\n",
      "197/197 [==============================] - 162s 822ms/step - loss: 1.0566 - macro_f1: 0.3563\n",
      "Epoch 6/20\n",
      "197/197 [==============================] - 163s 826ms/step - loss: 1.0348 - macro_f1: 0.3580\n",
      "Epoch 7/20\n",
      "197/197 [==============================] - 163s 827ms/step - loss: 1.0170 - macro_f1: 0.3622\n",
      "Epoch 8/20\n",
      "197/197 [==============================] - 164s 830ms/step - loss: 0.9866 - macro_f1: 0.3627\n",
      "Epoch 9/20\n",
      "197/197 [==============================] - 163s 829ms/step - loss: 0.9760 - macro_f1: 0.3636\n",
      "Epoch 10/20\n",
      "197/197 [==============================] - 164s 833ms/step - loss: 0.9537 - macro_f1: 0.3622\n",
      "Epoch 10: early stopping\n",
      "197/197 [==============================] - 32s 161ms/step - loss: 0.8857 - macro_f1: 0.3495\n",
      "0.34954795241355896\n"
     ]
    }
   ],
   "source": [
    "model.fit(x_train, y_train, epochs=20, callbacks=[es])\n",
    "print(model.evaluate(x_train,y_train)[1])\n",
    "del x_train, y_train"
   ]
  },
  {
   "cell_type": "code",
   "execution_count": 6,
   "id": "b60d2a5a",
   "metadata": {},
   "outputs": [
    {
     "name": "stdout",
     "output_type": "stream",
     "text": [
      "95/95 [==============================] - 16s 167ms/step - loss: 1.0952 - macro_f1: 0.3926\n",
      "0.39255958795547485\n"
     ]
    }
   ],
   "source": [
    "with np.load(os.getcwd() + '/ test_age_image_data.npz', mmap_mode='c') as data:\n",
    "    x_test = data['arr_0']\n",
    "    y_test = data['arr_1']\n",
    "\n",
    "print(model.evaluate(x_test,y_test)[1])\n",
    "del x_test,y_test"
   ]
  }
 ],
 "metadata": {
  "kernelspec": {
   "display_name": "Python 3 (ipykernel)",
   "language": "python",
   "name": "python3"
  },
  "language_info": {
   "codemirror_mode": {
    "name": "ipython",
    "version": 3
   },
   "file_extension": ".py",
   "mimetype": "text/x-python",
   "name": "python",
   "nbconvert_exporter": "python",
   "pygments_lexer": "ipython3",
   "version": "3.10.11"
  }
 },
 "nbformat": 4,
 "nbformat_minor": 5
}
