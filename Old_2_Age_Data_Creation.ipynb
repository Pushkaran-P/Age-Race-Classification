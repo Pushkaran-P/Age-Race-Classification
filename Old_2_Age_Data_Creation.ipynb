{
 "cells": [
  {
   "cell_type": "code",
   "execution_count": 1,
   "id": "438f8efb",
   "metadata": {},
   "outputs": [],
   "source": [
    "import os\n",
    "import cv2\n",
    "import numpy as np\n",
    "from pathlib import Path\n",
    "from joblib import Parallel, delayed\n",
    "from sklearn.model_selection import train_test_split\n",
    "from imblearn.over_sampling import SMOTE\n",
    "\n",
    "lower_age_limit = 1\n",
    "upper_age_limit = 30\n",
    "bin_size = 6\n",
    "\n",
    "# dont keep beyond 30"
   ]
  },
  {
   "cell_type": "code",
   "execution_count": 2,
   "id": "cea221a4",
   "metadata": {},
   "outputs": [],
   "source": [
    "age_images_dict = {}\n",
    "ages_labels_dict = {}\n",
    "cropped_folder = cropped_folder = Path(os.getcwd()) / 'cropped_images'\n",
    "\n",
    "def get_sort_key(x):\n",
    "    parts = x.stem.split('_')\n",
    "    try:\n",
    "        return (0, tuple(map(int, parts[:3])))\n",
    "    except ValueError:\n",
    "        return (1,)\n",
    "\n",
    "for i in range(lower_age_limit, upper_age_limit+1, bin_size):\n",
    "    \n",
    "    age_bin = [image for j in range(bin_size) for image in sorted(cropped_folder.glob(f'{i+j}_*'), key=get_sort_key) ]\n",
    "    age_images_dict[i] = age_bin\n",
    "    ages_labels_dict[i] = (i - lower_age_limit) // bin_size\n",
    "\n",
    "# some ages are missing "
   ]
  },
  {
   "cell_type": "code",
   "execution_count": 3,
   "id": "daa5a136",
   "metadata": {},
   "outputs": [],
   "source": [
    "def process_image(image, age_number):\n",
    "    try:\n",
    "        #image_path = os.path.abspath(image)\n",
    "        img = cv2.imread(str(image))\n",
    "        return img, ages_labels_dict[age_number]\n",
    "        #return resized_img\n",
    "    except cv2.error as e:\n",
    "        print(f\"Error processing {image}: {str(e)}\")\n",
    "        return None\n",
    "\n",
    "\n",
    "\n",
    "results = Parallel(n_jobs=-1)(delayed(process_image)(image, age_number) for age_number, images in age_images_dict.items() for image in images)\n",
    "\n",
    "x, y = zip(*results)\n",
    "x = np.array(x)\n",
    "y = np.array(y).reshape(-1, 1)\n",
    "del results"
   ]
  },
  {
   "cell_type": "code",
   "execution_count": 4,
   "id": "00067fd9",
   "metadata": {},
   "outputs": [],
   "source": [
    "X_train, X_test, y_train, y_test = train_test_split(x, y, random_state=42, shuffle = True)\n",
    "del x, y, age_images_dict, ages_labels_dict\n",
    "np.savez( os.getcwd() + '/ test_age_image_data.npz', X_test, y_test)\n",
    "del X_test, y_test"
   ]
  },
  {
   "cell_type": "code",
   "execution_count": 5,
   "id": "8b78126f",
   "metadata": {},
   "outputs": [
    {
     "name": "stdout",
     "output_type": "stream",
     "text": [
      "Unique elements: [0 1 2 3 4]\n",
      "Counts: [1611  635  792 1789 4282]\n"
     ]
    }
   ],
   "source": [
    "unique_elements, counts = np.unique(y_train, return_counts=True)\n",
    "print(f'Unique elements: {unique_elements}')\n",
    "print(f'Counts: {counts}')"
   ]
  },
  {
   "cell_type": "code",
   "execution_count": 6,
   "id": "b6a93724",
   "metadata": {},
   "outputs": [],
   "source": [
    "dim1 = X_train.shape[1]\n",
    "dim2 = X_train.shape[2]\n",
    "dim3 = X_train.shape[3]\n",
    "\n",
    "#Undersample class 4\n",
    "class_4_indices = np.where(y_train == 4)[0]\n",
    "np.random.seed(0)\n",
    "\n",
    "undersampled_indices = np.random.choice(class_4_indices, size=2000, replace=False)\n",
    "other_indices = np.where(y_train != 4)[0]\n",
    "selected_indices = np.concatenate([undersampled_indices, other_indices])\n",
    "\n",
    "X_train_undersampled = X_train[selected_indices]\n",
    "y_train_undersampled = y_train[selected_indices]\n",
    "\n",
    "\n",
    "# oversample classes 0, 1, 2, and 3 to have 2000 images each using SMOTE\n",
    "sampling_strategy = {0: 2000, 1: 2000, 2: 2000, 3: 2000}\n",
    "smote = SMOTE(sampling_strategy=sampling_strategy, random_state=0)\n",
    "\n",
    "X_train_reshaped = X_train_undersampled.reshape(X_train_undersampled.shape[0], -1)\n",
    "del X_train_undersampled\n",
    "\n",
    "X_train_resampled, y_train_resampled = smote.fit_resample(X_train_reshaped, y_train_undersampled)\n",
    "del X_train_reshaped\n",
    "\n",
    "X_train_resampled = X_train_resampled.reshape(-1, dim1, dim2, dim3)\n",
    "y_train_resampled = y_train_resampled.reshape(-1, 1)\n",
    "\n",
    "np.savez( os.getcwd() + '/ train_age_image_data.npz', X_train_resampled, y_train_resampled)\n",
    "del X_train_resampled, y_train_resampled"
   ]
  }
 ],
 "metadata": {
  "kernelspec": {
   "display_name": "Python 3 (ipykernel)",
   "language": "python",
   "name": "python3"
  },
  "language_info": {
   "codemirror_mode": {
    "name": "ipython",
    "version": 3
   },
   "file_extension": ".py",
   "mimetype": "text/x-python",
   "name": "python",
   "nbconvert_exporter": "python",
   "pygments_lexer": "ipython3",
   "version": "3.10.11"
  }
 },
 "nbformat": 4,
 "nbformat_minor": 5
}
