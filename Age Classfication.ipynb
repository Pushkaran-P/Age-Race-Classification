{
 "cells": [
  {
   "cell_type": "code",
   "execution_count": null,
   "id": "f39d2a46",
   "metadata": {},
   "outputs": [],
   "source": [
    "## dont run beyond 60 lack of computation - 92% ram \n",
    "## try 40 next"
   ]
  },
  {
   "cell_type": "code",
   "execution_count": null,
   "id": "438f8efb",
   "metadata": {},
   "outputs": [],
   "source": [
    "import matplotlib.pyplot as plt\n",
    "import numpy as np\n",
    "import glob\n",
    "import pathlib\n",
    "import PIL\n",
    "import os\n",
    "import tarfile\n",
    "import cv2\n",
    "import numpy as np\n",
    "import time\n",
    "\n",
    "lower_age_limit = 1\n",
    "upper_age_limit = 30"
   ]
  },
  {
   "cell_type": "code",
   "execution_count": null,
   "id": "cb5fdd88",
   "metadata": {},
   "outputs": [],
   "source": [
    "tar_files = ['part1.tar.gz', 'part2.tar.gz', 'part3.tar.gz']\n",
    "output_folder = os.path.join(os.getcwd(), 'all_images')\n",
    "\n",
    "if not os.path.exists(output_folder):\n",
    "    os.makedirs(output_folder)\n",
    "\n",
    "    for tar_file in tar_files:\n",
    "        with tarfile.open(tar_file, 'r:gz') as tar:\n",
    "            for member in tar.getmembers():\n",
    "                # Remove the leading directory name from the member's name\n",
    "                member.name = os.path.basename(member.name)\n",
    "                tar.extract(member, output_folder)"
   ]
  },
  {
   "cell_type": "code",
   "execution_count": null,
   "id": "7fd1c01d",
   "metadata": {},
   "outputs": [],
   "source": [
    "data_dir = pathlib.Path('.//all_images')"
   ]
  },
  {
   "cell_type": "code",
   "execution_count": null,
   "id": "3ac124e2",
   "metadata": {},
   "outputs": [],
   "source": [
    "image_count = len(list(data_dir.glob('**/*.jpg')))\n",
    "print(image_count)"
   ]
  },
  {
   "cell_type": "code",
   "execution_count": null,
   "id": "649b0273",
   "metadata": {},
   "outputs": [],
   "source": [
    "# age_1 = list(data_dir.glob('1_*'))\n",
    "# PIL.Image.open(str(age_1[1]))"
   ]
  },
  {
   "cell_type": "code",
   "execution_count": null,
   "id": "cea221a4",
   "metadata": {},
   "outputs": [],
   "source": [
    "age_images_dict = {}\n",
    "ages_labels_dict = {}\n",
    "\n",
    "for i in range(lower_age_limit, upper_age_limit):\n",
    "    age_images_dict[i] = list(data_dir.glob(f'{i}_*'))\n",
    "    ages_labels_dict[i] = i-1\n",
    "\n",
    "# some ages are missing "
   ]
  },
  {
   "cell_type": "code",
   "execution_count": null,
   "id": "9ed62545",
   "metadata": {},
   "outputs": [],
   "source": [
    "# img = cv2.imread(str(age_images_dict[3][0]))\n",
    "# img.shape"
   ]
  },
  {
   "cell_type": "code",
   "execution_count": null,
   "id": "c8fc48c9",
   "metadata": {},
   "outputs": [],
   "source": [
    "# start = time.time()\n",
    "# x, y = [], []\n",
    "\n",
    "# for age_number, images in age_images_dict.items():\n",
    "#     for image in images:\n",
    "#         try:\n",
    "#             img = cv2.imread(str(image))\n",
    "#             resized_img = cv2.resize(img,(180,180))\n",
    "#         except cv2.error as e:\n",
    "#             print(f\"Error processing {image}: {str(e)}\")\n",
    "#             continue\n",
    "#         x.append(resized_img)\n",
    "#         y.append(ages_labels_dict[age_number])\n",
    "        \n",
    "# x = np.array(x)/255\n",
    "# y = np.array(y)\n",
    "# print(time.time()-start)"
   ]
  },
  {
   "cell_type": "code",
   "execution_count": null,
   "id": "daa5a136",
   "metadata": {},
   "outputs": [],
   "source": [
    "from concurrent.futures import ThreadPoolExecutor, as_completed\n",
    "def process_image(image):\n",
    "    try:\n",
    "        img = cv2.imread(str(image))\n",
    "        resized_img = cv2.resize(img,(180,180))\n",
    "        return resized_img\n",
    "    except cv2.error as e:\n",
    "        print(f\"Error processing {image}: {str(e)}\")\n",
    "        return None\n",
    "\n",
    "x, y = [], []\n",
    "\n",
    "with ThreadPoolExecutor() as executor:\n",
    "    futures = []\n",
    "    for age_number, images in age_images_dict.items():\n",
    "        for image in images:\n",
    "            future = executor.submit(process_image, image)\n",
    "            futures.append((future, age_number))\n",
    "\n",
    "    for future, age_number in futures:\n",
    "        result = future.result()\n",
    "        if result is not None:\n",
    "            x.append(result)\n",
    "            y.append(ages_labels_dict[age_number])\n",
    "\n",
    "x = np.array(x)\n",
    "y = np.array(y)"
   ]
  },
  {
   "cell_type": "code",
   "execution_count": null,
   "id": "88585fc0",
   "metadata": {},
   "outputs": [],
   "source": [
    "np.savez( os.getcwd() + '/ age_image_data.npz', x, y)\n",
    "del x, y, age_images_dict, ages_labels_dict, futures, result, images"
   ]
  },
  {
   "cell_type": "markdown",
   "id": "59aeebeb",
   "metadata": {},
   "source": [
    "# # run from here if saved .npz file"
   ]
  },
  {
   "cell_type": "code",
   "execution_count": null,
   "id": "78eeef29",
   "metadata": {},
   "outputs": [],
   "source": [
    "import numpy as np\n",
    "import tensorflow as tf\n",
    "import os\n",
    "\n",
    "from tensorflow.keras import datasets, layers, models\n",
    "from tensorflow import keras\n",
    "from tensorflow.keras.models import Sequential"
   ]
  },
  {
   "cell_type": "code",
   "execution_count": null,
   "id": "7ba62c52",
   "metadata": {},
   "outputs": [],
   "source": [
    "with np.load(os.getcwd() + '/ age_image_data.npz', mmap_mode='c') as data:\n",
    "    x = data['arr_0']\n",
    "    y = data['arr_1']\n",
    "\n",
    "num_classes = len(np.unique(y))"
   ]
  },
  {
   "cell_type": "code",
   "execution_count": null,
   "id": "85b488c9",
   "metadata": {},
   "outputs": [],
   "source": [
    "from sklearn.model_selection import train_test_split\n",
    "X_train, X_test, y_train, y_test = train_test_split(x, y, random_state=0)\n",
    "del x, y"
   ]
  },
  {
   "cell_type": "code",
   "execution_count": null,
   "id": "3b384500",
   "metadata": {},
   "outputs": [],
   "source": [
    "data_augmentation = keras.Sequential(\n",
    "    [\n",
    "        tf.keras.layers.Rescaling(scale = 1./255, offset=0.0),\n",
    "        layers.experimental.preprocessing.RandomFlip(\"horizontal\", input_shape=(180, 180, 3)),\n",
    "        layers.experimental.preprocessing.RandomRotation(0.1),\n",
    "        layers.experimental.preprocessing.RandomZoom(0.1)    \n",
    "    ]\n",
    ")\n",
    "\n",
    "model = Sequential([\n",
    "    \n",
    "    data_augmentation,\n",
    "    \n",
    "    layers.Conv2D(16, 3, padding='same', activation='relu', input_shape = (180,180,3)),\n",
    "    layers.MaxPooling2D(),\n",
    "    \n",
    "    layers.Conv2D(32, 3, padding='same', activation='relu'),\n",
    "    layers.MaxPooling2D(),\n",
    "    \n",
    "    layers.Conv2D(64, 3, padding='same', activation='relu'),\n",
    "    layers.MaxPooling2D(),\n",
    "    \n",
    "    layers.Flatten(),\n",
    "    layers.Dense(128, activation='relu'),\n",
    "    layers.Dense(num_classes, activation='softmax')\n",
    "])\n",
    "\n",
    "model.compile(optimizer='adam', loss='sparse_categorical_crossentropy', metrics=['accuracy'])\n",
    "              \n",
    "model.fit(X_train, y_train, epochs=10)\n",
    "del X_train, y_train"
   ]
  },
  {
   "cell_type": "code",
   "execution_count": null,
   "id": "c52cbe5c",
   "metadata": {},
   "outputs": [],
   "source": [
    "model.evaluate(X_test,y_test)\n",
    "del X_test,y_test"
   ]
  },
  {
   "cell_type": "code",
   "execution_count": null,
   "id": "b60d2a5a",
   "metadata": {},
   "outputs": [],
   "source": []
  }
 ],
 "metadata": {
  "kernelspec": {
   "display_name": "Python 3 (ipykernel)",
   "language": "python",
   "name": "python3"
  },
  "language_info": {
   "codemirror_mode": {
    "name": "ipython",
    "version": 3
   },
   "file_extension": ".py",
   "mimetype": "text/x-python",
   "name": "python",
   "nbconvert_exporter": "python",
   "pygments_lexer": "ipython3",
   "version": "3.10.11"
  }
 },
 "nbformat": 4,
 "nbformat_minor": 5
}
