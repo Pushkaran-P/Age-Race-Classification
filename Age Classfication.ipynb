{
 "cells": [
  {
   "cell_type": "code",
   "execution_count": null,
   "id": "669da081",
   "metadata": {},
   "outputs": [],
   "source": [
    "!python --version"
   ]
  },
  {
   "cell_type": "code",
   "execution_count": null,
   "id": "438f8efb",
   "metadata": {},
   "outputs": [],
   "source": [
    "import tensorflow as tf\n",
    "from tensorflow.keras import datasets, layers, models\n",
    "import matplotlib.pyplot as plt\n",
    "import numpy as np\n",
    "import glob\n",
    "import pathlib\n",
    "import PIL\n",
    "import os\n",
    "import tarfile\n",
    "import cv2\n",
    "import numpy as np\n",
    "\n",
    "from tensorflow import keras\n",
    "from tensorflow.keras import layers\n",
    "from tensorflow.keras.models import Sequential"
   ]
  },
  {
   "cell_type": "code",
   "execution_count": null,
   "id": "cb5fdd88",
   "metadata": {},
   "outputs": [],
   "source": [
    "tar_files = ['part1.tar.gz', 'part2.tar.gz', 'part3.tar.gz']\n",
    "output_folder = os.getcwd() + '/all_images'\n",
    "\n",
    "if not os.path.exists(output_folder):\n",
    "    os.makedirs(output_folder)\n",
    "\n",
    "    for tar_file in tar_files:\n",
    "        with tarfile.open(tar_file, 'r:gz') as tar:\n",
    "            for member in tar.getmembers():\n",
    "                # Remove the leading directory name from the member's name\n",
    "                member.name = os.path.basename(member.name)\n",
    "                tar.extract(member, output_folder)"
   ]
  },
  {
   "cell_type": "code",
   "execution_count": null,
   "id": "7fd1c01d",
   "metadata": {},
   "outputs": [],
   "source": [
    "data_dir = pathlib.Path('.//all_images')"
   ]
  },
  {
   "cell_type": "code",
   "execution_count": null,
   "id": "3ac124e2",
   "metadata": {},
   "outputs": [],
   "source": [
    "image_count = len(list(data_dir.glob('**/*.jpg')))\n",
    "print(image_count)"
   ]
  },
  {
   "cell_type": "code",
   "execution_count": null,
   "id": "649b0273",
   "metadata": {},
   "outputs": [],
   "source": [
    "age_1 = list(data_dir.glob('1_*'))\n",
    "PIL.Image.open(str(age_1[1]))"
   ]
  },
  {
   "cell_type": "code",
   "execution_count": null,
   "id": "cea221a4",
   "metadata": {},
   "outputs": [],
   "source": [
    "age_images_dict = {}\n",
    "\n",
    "for i in range(1, 6):\n",
    "    age_images_dict[i] = list(data_dir.glob(str(i)+'_*'))\n",
    "\n",
    "# some ages are missing "
   ]
  },
  {
   "cell_type": "code",
   "execution_count": null,
   "id": "5c497a3f",
   "metadata": {},
   "outputs": [],
   "source": [
    "ages_labels_dict = {}\n",
    "for i in range(1, 6):\n",
    "    ages_labels_dict[i] = i-1"
   ]
  },
  {
   "cell_type": "code",
   "execution_count": null,
   "id": "9ed62545",
   "metadata": {},
   "outputs": [],
   "source": [
    "# img = cv2.imread(str(age_images_dict[3][0]))\n",
    "# img.shape"
   ]
  },
  {
   "cell_type": "code",
   "execution_count": null,
   "id": "c8fc48c9",
   "metadata": {},
   "outputs": [],
   "source": [
    "x, y = [], []\n",
    "\n",
    "for age_number, images in age_images_dict.items():\n",
    "    for image in images:\n",
    "        img = cv2.imread(str(image))\n",
    "        resized_img = cv2.resize(img,(180,180))\n",
    "        x.append(resized_img)\n",
    "        y.append(ages_labels_dict[age_number])\n",
    "        \n",
    "x = np.array(x)/255"
   ]
  },
  {
   "cell_type": "code",
   "execution_count": null,
   "id": "88585fc0",
   "metadata": {},
   "outputs": [],
   "source": [
    "np.savez( os.getcwd() + '/ age_image_data.npz', x, y)"
   ]
  },
  {
   "cell_type": "markdown",
   "id": "59aeebeb",
   "metadata": {},
   "source": [
    "# # run from here if saved .npz file"
   ]
  },
  {
   "cell_type": "code",
   "execution_count": null,
   "id": "7ba62c52",
   "metadata": {},
   "outputs": [],
   "source": [
    "with np.load(os.getcwd() + '/ age_image_data.npz') as data:\n",
    "    x = data['arr_0']\n",
    "    y = data['arr_1']"
   ]
  },
  {
   "cell_type": "code",
   "execution_count": null,
   "id": "85b488c9",
   "metadata": {},
   "outputs": [],
   "source": [
    "from sklearn.model_selection import train_test_split\n",
    "X_train, X_test, y_train, y_test = train_test_split(x, y, random_state=0)"
   ]
  },
  {
   "cell_type": "code",
   "execution_count": null,
   "id": "3b384500",
   "metadata": {},
   "outputs": [],
   "source": [
    "num_classes = len(np.unique(y))\n",
    "\n",
    "model = Sequential([\n",
    "  layers.Conv2D(16, 3, padding='same', activation='relu', input_shape = (180,180,3)),\n",
    "  layers.MaxPooling2D(),\n",
    "    \n",
    "  layers.Conv2D(32, 3, padding='same', activation='relu'),\n",
    "  layers.MaxPooling2D(),\n",
    "    \n",
    "  layers.Conv2D(64, 3, padding='same', activation='relu'),\n",
    "  layers.MaxPooling2D(),\n",
    "    \n",
    "  layers.Flatten(),\n",
    "  layers.Dense(128, activation='relu'),\n",
    "  layers.Dense(num_classes, activation='softmax')\n",
    "])\n",
    "\n",
    "model.compile(optimizer='adam', loss='sparse_categorical_crossentropy', metrics=['accuracy'])\n",
    "              \n",
    "model.fit(X_train, y_train, epochs=30)  "
   ]
  },
  {
   "cell_type": "code",
   "execution_count": null,
   "id": "c52cbe5c",
   "metadata": {},
   "outputs": [],
   "source": [
    "model.evaluate(X_test,y_test)"
   ]
  }
 ],
 "metadata": {
  "kernelspec": {
   "display_name": "Python 3 (ipykernel)",
   "language": "python",
   "name": "python3"
  },
  "language_info": {
   "codemirror_mode": {
    "name": "ipython",
    "version": 3
   },
   "file_extension": ".py",
   "mimetype": "text/x-python",
   "name": "python",
   "nbconvert_exporter": "python",
   "pygments_lexer": "ipython3",
   "version": "3.10.11"
  }
 },
 "nbformat": 4,
 "nbformat_minor": 5
}
